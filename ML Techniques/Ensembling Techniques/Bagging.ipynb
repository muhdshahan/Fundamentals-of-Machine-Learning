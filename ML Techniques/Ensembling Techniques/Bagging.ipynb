{
 "cells": [
  {
   "cell_type": "markdown",
   "id": "3a0abc8e",
   "metadata": {},
   "source": [
    "#### Bagging Regressor"
   ]
  },
  {
   "cell_type": "code",
   "execution_count": 5,
   "id": "eca5ab6d",
   "metadata": {},
   "outputs": [
    {
     "name": "stdout",
     "output_type": "stream",
     "text": [
      "   Unnamed: 0      Year  Engine Size   Mileage         Price  Make_Audi  \\\n",
      "0           0  0.686031     1.076274 -0.387368  30246.207931        0.0   \n",
      "1           1  0.526933    -1.072952 -0.040282  22785.747684        0.0   \n",
      "\n",
      "   Make_BMW  Make_Ford  Make_Honda  Make_Toyota  Model_Model A  Model_Model B  \\\n",
      "0       0.0        0.0         1.0          0.0            0.0            1.0   \n",
      "1       0.0        1.0         0.0          0.0            0.0            0.0   \n",
      "\n",
      "   Model_Model C  Model_Model D  Model_Model E  Fuel Type_Diesel  \\\n",
      "0            0.0            0.0            0.0               0.0   \n",
      "1            1.0            0.0            0.0               0.0   \n",
      "\n",
      "   Fuel Type_Electric  Fuel Type_Petrol  Transmission_Automatic  \\\n",
      "0                 0.0               1.0                     0.0   \n",
      "1                 1.0               0.0                     1.0   \n",
      "\n",
      "   Transmission_Manual  \n",
      "0                  1.0  \n",
      "1                  0.0  \n",
      "6363021.915928816\n",
      "0.7245166205393455\n"
     ]
    }
   ],
   "source": [
    "from sklearn.ensemble import BaggingRegressor\n",
    "from sklearn.metrics import mean_squared_error, r2_score\n",
    "from sklearn.tree import DecisionTreeRegressor\n",
    "import pandas as pd \n",
    "from sklearn.model_selection import train_test_split\n",
    "\n",
    "data = pd.read_csv(\"Car Price Prediction.csv\")\n",
    "print(data.head(2))\n",
    "\n",
    "x, y = data.drop(columns=[\"Price\"]), data[\"Price\"]\n",
    "\n",
    "x_train, x_test, y_train, y_test = train_test_split(x, y, random_state=42, test_size=0.2)\n",
    "\n",
    "model = BaggingRegressor(estimator=DecisionTreeRegressor(), n_estimators=10)\n",
    "model.fit(x_train, y_train)\n",
    "pred = model.predict(x_test)\n",
    "print(mean_squared_error(pred, y_test))\n",
    "print(r2_score(pred, y_test))"
   ]
  },
  {
   "cell_type": "markdown",
   "id": "2ba1b083",
   "metadata": {},
   "source": [
    "#### RandomForest"
   ]
  },
  {
   "cell_type": "code",
   "execution_count": 7,
   "id": "7b2e693a",
   "metadata": {},
   "outputs": [
    {
     "name": "stdout",
     "output_type": "stream",
     "text": [
      "5795633.443956154\n",
      "0.7507252520167407\n"
     ]
    }
   ],
   "source": [
    "from sklearn.ensemble import RandomForestRegressor\n",
    "\n",
    "model = RandomForestRegressor( n_estimators=100)\n",
    "model.fit(x_train, y_train)\n",
    "pred = model.predict(x_test)\n",
    "print(mean_squared_error(pred, y_test))\n",
    "print(r2_score(pred, y_test))"
   ]
  }
 ],
 "metadata": {
  "kernelspec": {
   "display_name": "Python 3",
   "language": "python",
   "name": "python3"
  },
  "language_info": {
   "codemirror_mode": {
    "name": "ipython",
    "version": 3
   },
   "file_extension": ".py",
   "mimetype": "text/x-python",
   "name": "python",
   "nbconvert_exporter": "python",
   "pygments_lexer": "ipython3",
   "version": "3.12.5"
  }
 },
 "nbformat": 4,
 "nbformat_minor": 5
}
