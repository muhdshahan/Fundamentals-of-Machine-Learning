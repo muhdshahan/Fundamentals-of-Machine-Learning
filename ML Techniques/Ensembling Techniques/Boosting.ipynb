{
 "cells": [
  {
   "cell_type": "markdown",
   "id": "a06fe661",
   "metadata": {},
   "source": [
    "Boosting Classifier"
   ]
  },
  {
   "cell_type": "code",
   "execution_count": 5,
   "id": "045dc0b3",
   "metadata": {},
   "outputs": [
    {
     "name": "stdout",
     "output_type": "stream",
     "text": [
      "   survived  pclass   age  sibsp  parch     fare  class  adult_male  \\\n",
      "0         0       3  22.0      1      0   7.2500      2           1   \n",
      "1         1       1  38.0      1      0  71.2833      0           0   \n",
      "\n",
      "   sex_female  sex_male  embark_town_Cherbourg  embark_town_Queen  \\\n",
      "0           0         1                      0                  0   \n",
      "1           1         0                      1                  0   \n",
      "\n",
      "   embark_town_Queenstown  embark_town_Southampton  \n",
      "0                       0                        1  \n",
      "1                       0                        0  \n",
      "0.7435897435897436\n"
     ]
    },
    {
     "name": "stderr",
     "output_type": "stream",
     "text": [
      "c:\\Users\\shaha\\AppData\\Local\\Programs\\Python\\Python312\\Lib\\site-packages\\sklearn\\ensemble\\_weight_boosting.py:519: FutureWarning: The SAMME.R algorithm (the default) is deprecated and will be removed in 1.6. Use the SAMME algorithm to circumvent this warning.\n",
      "  warnings.warn(\n"
     ]
    },
    {
     "name": "stdout",
     "output_type": "stream",
     "text": [
      "0.7521367521367521\n",
      "0.8034188034188035\n",
      "[LightGBM] [Info] Number of positive: 189, number of negative: 277\n",
      "[LightGBM] [Info] Auto-choosing col-wise multi-threading, the overhead of testing was 0.000200 seconds.\n",
      "You can set `force_col_wise=true` to remove the overhead.\n",
      "[LightGBM] [Info] Total Bins 181\n",
      "[LightGBM] [Info] Number of data points in the train set: 466, number of used features: 12\n",
      "[LightGBM] [Info] [binary:BoostFromScore]: pavg=0.405579 -> initscore=-0.382270\n",
      "[LightGBM] [Info] Start training from score -0.382270\n",
      "[LightGBM] [Warning] No further splits with positive gain, best gain: -inf\n",
      "[LightGBM] [Warning] No further splits with positive gain, best gain: -inf\n",
      "[LightGBM] [Warning] No further splits with positive gain, best gain: -inf\n",
      "[LightGBM] [Warning] No further splits with positive gain, best gain: -inf\n",
      "[LightGBM] [Warning] No further splits with positive gain, best gain: -inf\n",
      "[LightGBM] [Warning] No further splits with positive gain, best gain: -inf\n",
      "[LightGBM] [Warning] No further splits with positive gain, best gain: -inf\n",
      "[LightGBM] [Warning] No further splits with positive gain, best gain: -inf\n",
      "[LightGBM] [Warning] No further splits with positive gain, best gain: -inf\n",
      "[LightGBM] [Warning] No further splits with positive gain, best gain: -inf\n",
      "0.7777777777777778\n"
     ]
    },
    {
     "name": "stderr",
     "output_type": "stream",
     "text": [
      "c:\\Users\\shaha\\AppData\\Local\\Programs\\Python\\Python312\\Lib\\site-packages\\xgboost\\training.py:183: UserWarning: [19:44:16] WARNING: C:\\actions-runner\\_work\\xgboost\\xgboost\\src\\learner.cc:738: \n",
      "Parameters: { \"predict_eval\" } are not used.\n",
      "\n",
      "  bst.update(dtrain, iteration=i, fobj=obj)\n"
     ]
    },
    {
     "name": "stdout",
     "output_type": "stream",
     "text": [
      "0:\tlearn: 0.6577798\ttotal: 3.08ms\tremaining: 27.7ms\n",
      "1:\tlearn: 0.6261540\ttotal: 4.85ms\tremaining: 19.4ms\n",
      "2:\tlearn: 0.6012275\ttotal: 10.4ms\tremaining: 24.3ms\n",
      "3:\tlearn: 0.5802381\ttotal: 13.6ms\tremaining: 20.4ms\n",
      "4:\tlearn: 0.5618901\ttotal: 18.1ms\tremaining: 18.1ms\n",
      "5:\tlearn: 0.5449883\ttotal: 23.9ms\tremaining: 15.9ms\n",
      "6:\tlearn: 0.5333419\ttotal: 26.7ms\tremaining: 11.5ms\n",
      "7:\tlearn: 0.5206034\ttotal: 28.2ms\tremaining: 7.06ms\n",
      "8:\tlearn: 0.5099859\ttotal: 92.3ms\tremaining: 10.3ms\n",
      "9:\tlearn: 0.5012326\ttotal: 94.8ms\tremaining: 0us\n",
      "0.7521367521367521\n"
     ]
    }
   ],
   "source": [
    "from sklearn.ensemble import AdaBoostClassifier, GradientBoostingClassifier\n",
    "from xgboost import XGBClassifier\n",
    "from lightgbm import LGBMClassifier\n",
    "from catboost import CatBoostClassifier\n",
    "from sklearn.metrics import accuracy_score\n",
    "import pandas as pd \n",
    "from sklearn.model_selection import train_test_split\n",
    "\n",
    "data = pd.read_csv(\"Titanic.csv\", index_col=0)\n",
    "print(data.head(2))\n",
    "\n",
    "x, y = data.drop(columns=[\"survived\"]), data[\"survived\"]\n",
    "\n",
    "x_train, x_test, y_train, y_test = train_test_split(x, y, random_state=42, test_size=0.2)\n",
    "\n",
    "def predict_eval(model):\n",
    "    model.fit(x_train, y_train)\n",
    "    pred = model.predict(x_test)\n",
    "    print(accuracy_score(pred, y_test))\n",
    "\n",
    "predict_eval(AdaBoostClassifier(n_estimators=10, random_state=42))\n",
    "predict_eval(GradientBoostingClassifier(n_estimators=10, random_state=42))\n",
    "predict_eval(XGBClassifier(n_estimators=10, random_state=42, learning_rate=0.1, predict_eval=(\"logloss\")))\n",
    "predict_eval(LGBMClassifier(n_estimators=10, random_state=42, learning_rate=0.1))\n",
    "predict_eval(CatBoostClassifier(n_estimators=10, random_state=42, learning_rate=0.1))"
   ]
  }
 ],
 "metadata": {
  "kernelspec": {
   "display_name": "Python 3",
   "language": "python",
   "name": "python3"
  },
  "language_info": {
   "codemirror_mode": {
    "name": "ipython",
    "version": 3
   },
   "file_extension": ".py",
   "mimetype": "text/x-python",
   "name": "python",
   "nbconvert_exporter": "python",
   "pygments_lexer": "ipython3",
   "version": "3.12.5"
  }
 },
 "nbformat": 4,
 "nbformat_minor": 5
}
