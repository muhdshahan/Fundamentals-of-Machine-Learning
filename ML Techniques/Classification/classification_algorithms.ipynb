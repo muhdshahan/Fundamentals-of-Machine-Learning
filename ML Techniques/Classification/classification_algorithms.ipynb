{
 "cells": [
  {
   "cell_type": "markdown",
   "id": "a3e130a0",
   "metadata": {},
   "source": [
    "#### Logistic regression"
   ]
  },
  {
   "cell_type": "code",
   "execution_count": 22,
   "id": "b8fdea9b",
   "metadata": {},
   "outputs": [
    {
     "name": "stdout",
     "output_type": "stream",
     "text": [
      "   survived  pclass   age  sibsp  parch     fare  class  adult_male  \\\n",
      "0         0       3  22.0      1      0   7.2500      2           1   \n",
      "1         1       1  38.0      1      0  71.2833      0           0   \n",
      "2         1       3  26.0      0      0   7.9250      2           0   \n",
      "3         1       1  35.0      1      0  53.1000      0           0   \n",
      "4         0       3  35.0      0      0   8.0500      2           1   \n",
      "\n",
      "   sex_female  sex_male  embark_town_Cherbourg  embark_town_Queen  \\\n",
      "0           0         1                      0                  0   \n",
      "1           1         0                      1                  0   \n",
      "2           1         0                      0                  0   \n",
      "3           1         0                      0                  0   \n",
      "4           0         1                      0                  0   \n",
      "\n",
      "   embark_town_Queenstown  embark_town_Southampton  \n",
      "0                       0                        1  \n",
      "1                       0                        0  \n",
      "2                       0                        1  \n",
      "3                       0                        1  \n",
      "4                       0                        1  \n",
      "Accuracy:  0.7777777777777778\n"
     ]
    },
    {
     "name": "stderr",
     "output_type": "stream",
     "text": [
      "c:\\Users\\shaha\\AppData\\Local\\Programs\\Python\\Python312\\Lib\\site-packages\\sklearn\\linear_model\\_logistic.py:469: ConvergenceWarning: lbfgs failed to converge (status=1):\n",
      "STOP: TOTAL NO. of ITERATIONS REACHED LIMIT.\n",
      "\n",
      "Increase the number of iterations (max_iter) or scale the data as shown in:\n",
      "    https://scikit-learn.org/stable/modules/preprocessing.html\n",
      "Please also refer to the documentation for alternative solver options:\n",
      "    https://scikit-learn.org/stable/modules/linear_model.html#logistic-regression\n",
      "  n_iter_i = _check_optimize_result(\n"
     ]
    }
   ],
   "source": [
    "from sklearn.linear_model import LogisticRegression\n",
    "from sklearn.metrics import accuracy_score\n",
    "import pandas as pd \n",
    "from sklearn.model_selection import train_test_split\n",
    "import numpy as np\n",
    "\n",
    "data = pd.read_csv(\"Titanic.csv\", index_col=0)\n",
    "print(data.head())\n",
    "\n",
    "x = data.drop(columns=[\"survived\"])\n",
    "y = data[\"survived\"]\n",
    "\n",
    "x_train, x_test, y_train, y_test = train_test_split(x, y, random_state=42, test_size=0.2)\n",
    "\n",
    "model = LogisticRegression()\n",
    "model.fit(x_train, y_train)\n",
    "pred = model.predict(x_test)\n",
    "\n",
    "print(\"Accuracy: \", accuracy_score(y_test, pred))\n"
   ]
  },
  {
   "cell_type": "code",
   "execution_count": 24,
   "id": "12cdfc28",
   "metadata": {},
   "outputs": [
    {
     "name": "stderr",
     "output_type": "stream",
     "text": [
      "c:\\Users\\shaha\\AppData\\Local\\Programs\\Python\\Python312\\Lib\\site-packages\\sklearn\\linear_model\\_logistic.py:469: ConvergenceWarning: lbfgs failed to converge (status=1):\n",
      "STOP: TOTAL NO. of ITERATIONS REACHED LIMIT.\n",
      "\n",
      "Increase the number of iterations (max_iter) or scale the data as shown in:\n",
      "    https://scikit-learn.org/stable/modules/preprocessing.html\n",
      "Please also refer to the documentation for alternative solver options:\n",
      "    https://scikit-learn.org/stable/modules/linear_model.html#logistic-regression\n",
      "  n_iter_i = _check_optimize_result(\n",
      "c:\\Users\\shaha\\AppData\\Local\\Programs\\Python\\Python312\\Lib\\site-packages\\sklearn\\linear_model\\_logistic.py:469: ConvergenceWarning: lbfgs failed to converge (status=1):\n",
      "STOP: TOTAL NO. of ITERATIONS REACHED LIMIT.\n",
      "\n",
      "Increase the number of iterations (max_iter) or scale the data as shown in:\n",
      "    https://scikit-learn.org/stable/modules/preprocessing.html\n",
      "Please also refer to the documentation for alternative solver options:\n",
      "    https://scikit-learn.org/stable/modules/linear_model.html#logistic-regression\n",
      "  n_iter_i = _check_optimize_result(\n",
      "c:\\Users\\shaha\\AppData\\Local\\Programs\\Python\\Python312\\Lib\\site-packages\\sklearn\\linear_model\\_logistic.py:469: ConvergenceWarning: lbfgs failed to converge (status=1):\n",
      "STOP: TOTAL NO. of ITERATIONS REACHED LIMIT.\n",
      "\n",
      "Increase the number of iterations (max_iter) or scale the data as shown in:\n",
      "    https://scikit-learn.org/stable/modules/preprocessing.html\n",
      "Please also refer to the documentation for alternative solver options:\n",
      "    https://scikit-learn.org/stable/modules/linear_model.html#logistic-regression\n",
      "  n_iter_i = _check_optimize_result(\n",
      "c:\\Users\\shaha\\AppData\\Local\\Programs\\Python\\Python312\\Lib\\site-packages\\sklearn\\linear_model\\_logistic.py:469: ConvergenceWarning: lbfgs failed to converge (status=1):\n",
      "STOP: TOTAL NO. of ITERATIONS REACHED LIMIT.\n",
      "\n",
      "Increase the number of iterations (max_iter) or scale the data as shown in:\n",
      "    https://scikit-learn.org/stable/modules/preprocessing.html\n",
      "Please also refer to the documentation for alternative solver options:\n",
      "    https://scikit-learn.org/stable/modules/linear_model.html#logistic-regression\n",
      "  n_iter_i = _check_optimize_result(\n",
      "c:\\Users\\shaha\\AppData\\Local\\Programs\\Python\\Python312\\Lib\\site-packages\\sklearn\\linear_model\\_logistic.py:469: ConvergenceWarning: lbfgs failed to converge (status=1):\n",
      "STOP: TOTAL NO. of ITERATIONS REACHED LIMIT.\n",
      "\n",
      "Increase the number of iterations (max_iter) or scale the data as shown in:\n",
      "    https://scikit-learn.org/stable/modules/preprocessing.html\n",
      "Please also refer to the documentation for alternative solver options:\n",
      "    https://scikit-learn.org/stable/modules/linear_model.html#logistic-regression\n",
      "  n_iter_i = _check_optimize_result(\n"
     ]
    },
    {
     "data": {
      "text/plain": [
       "0.7924845269672856"
      ]
     },
     "execution_count": 24,
     "metadata": {},
     "output_type": "execute_result"
    }
   ],
   "source": [
    "from sklearn.model_selection import cross_val_score, GridSearchCV, RandomizedSearchCV\n",
    "\n",
    "# Higher cross-validation score: better generalization and model performance on unseen/test data.\n",
    "# Suggests that model is not overfitting.\n",
    "# Lower cross-validation score: poor generalization of model, may be overfitting (too complex) or underfitting (too simple).\n",
    "\n",
    "cv_scores = cross_val_score(LogisticRegression(),x,y, cv=5)\n",
    "cv_scores.mean()"
   ]
  },
  {
   "cell_type": "markdown",
   "id": "7ed13f32",
   "metadata": {},
   "source": [
    "#### KNN"
   ]
  },
  {
   "cell_type": "code",
   "execution_count": 43,
   "id": "657b26e4",
   "metadata": {},
   "outputs": [
    {
     "name": "stdout",
     "output_type": "stream",
     "text": [
      "neighbors: 1, score: 0.6331274307938686\n",
      "neighbors: 2, score: 0.6545641729581331\n",
      "neighbors: 3, score: 0.6588194921070692\n",
      "neighbors: 4, score: 0.6480439258750856\n",
      "neighbors: 5, score: 0.6652939830702357\n",
      "neighbors: 6, score: 0.6630748112560054\n",
      "neighbors: 7, score: 0.6609929078014185\n",
      "neighbors: 8, score: 0.6653626172500571\n",
      "neighbors: 9, score: 0.6652939830702357\n",
      "neighbors: 10, score: 0.6716312056737589\n",
      "neighbors: 11, score: 0.6716083276138184\n",
      "neighbors: 12, score: 0.6930908258979638\n",
      "neighbors: 13, score: 0.6737588652482269\n",
      "neighbors: 14, score: 0.6801189659116906\n",
      "neighbors: 15, score: 0.6736902310684053\n",
      "neighbors: 16, score: 0.6736902310684053\n",
      "neighbors: 17, score: 0.677968428277282\n",
      "neighbors: 18, score: 0.6780141843971631\n",
      "neighbors: 19, score: 0.6887439945092655\n",
      "neighbors: 20, score: 0.6737817433081675\n",
      "neighbors: 21, score: 0.6759322809425761\n",
      "neighbors: 22, score: 0.6823381377259208\n",
      "neighbors: 23, score: 0.6823381377259208\n",
      "neighbors: 24, score: 0.6844886753603294\n",
      "neighbors: 25, score: 0.6694577899794097\n",
      "neighbors: 26, score: 0.6759094028826356\n",
      "neighbors: 27, score: 0.6694577899794097\n",
      "neighbors: 28, score: 0.6609013955616563\n",
      "neighbors: 29, score: 0.6737588652482269\n",
      "KNeighborsClassifier(n_neighbors=7)\n",
      "0.7051429413498378\n",
      "KNeighborsClassifier(n_neighbors=7)\n",
      "0.7051429413498378\n"
     ]
    }
   ],
   "source": [
    "from sklearn.neighbors import KNeighborsClassifier\n",
    "\n",
    "k = range(1,30)\n",
    "\n",
    "cv_set = [cross_val_score(KNeighborsClassifier(n_neighbors=i),x_train,y_train,cv=5).mean() for i in k]\n",
    "\n",
    "for i in k:\n",
    "    print(f\"neighbors: {i}, score: {cv_set[i-1]}\")\n",
    "\n",
    "gs = GridSearchCV(KNeighborsClassifier(), {\"n_neighbors\": k}, cv=5)\n",
    "gs.fit(x,y)\n",
    "print(gs.best_estimator_)\n",
    "print(gs.best_score_)\n",
    "\n",
    "rs = RandomizedSearchCV(KNeighborsClassifier(), {\"n_neighbors\": k}, cv=5, n_iter=5)\n",
    "rs.fit(x,y)\n",
    "print(rs.best_estimator_)\n",
    "print(gs.best_score_)"
   ]
  },
  {
   "cell_type": "code",
   "execution_count": 34,
   "id": "44f7c57a",
   "metadata": {},
   "outputs": [
    {
     "name": "stdout",
     "output_type": "stream",
     "text": [
      "0.7008547008547008\n"
     ]
    }
   ],
   "source": [
    "model = KNeighborsClassifier(n_neighbors=7)\n",
    "model.fit(x_train, y_train)\n",
    "y_pred = model.predict(x_test)\n",
    "\n",
    "print(accuracy_score(y_pred, y_test))"
   ]
  },
  {
   "cell_type": "markdown",
   "id": "cd49dec6",
   "metadata": {},
   "source": []
  }
 ],
 "metadata": {
  "kernelspec": {
   "display_name": "Python 3",
   "language": "python",
   "name": "python3"
  },
  "language_info": {
   "codemirror_mode": {
    "name": "ipython",
    "version": 3
   },
   "file_extension": ".py",
   "mimetype": "text/x-python",
   "name": "python",
   "nbconvert_exporter": "python",
   "pygments_lexer": "ipython3",
   "version": "3.12.5"
  }
 },
 "nbformat": 4,
 "nbformat_minor": 5
}
