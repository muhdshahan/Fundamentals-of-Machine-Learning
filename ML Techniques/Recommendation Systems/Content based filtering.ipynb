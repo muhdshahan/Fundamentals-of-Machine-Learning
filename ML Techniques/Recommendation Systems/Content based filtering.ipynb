{
 "cells": [
  {
   "cell_type": "code",
   "execution_count": 13,
   "id": "6abfd0d3",
   "metadata": {},
   "outputs": [
    {
     "name": "stdout",
     "output_type": "stream",
     "text": [
      "   movieId             title                                       genres\n",
      "0        1  Toy Story (1995)  Adventure|Animation|Children|Comedy|Fantasy\n",
      "1        2    Jumanji (1995)                   Adventure|Children|Fantasy \n",
      "\n",
      "[[1.         0.79977247 0.1589222  ... 0.2638368  0.         0.        ]\n",
      " [0.79977247 1.         0.         ... 0.         0.         0.        ]\n",
      " [0.1589222  0.         1.         ... 0.60235038 0.         0.        ]\n",
      " ...\n",
      " [0.2638368  0.         0.60235038 ... 1.         0.         0.        ]\n",
      " [0.         0.         0.         ... 0.         1.         0.        ]\n",
      " [0.         0.         0.         ... 0.         0.         1.        ]] \n",
      "\n",
      "title                    Toy Story (1995)  Jumanji (1995)  \\\n",
      "title                                                       \n",
      "Toy Story (1995)                 1.000000        0.799772   \n",
      "Jumanji (1995)                   0.799772        1.000000   \n",
      "Grumpier Old Men (1995)          0.158922        0.000000   \n",
      "\n",
      "title                    Grumpier Old Men (1995)  Waiting to Exhale (1995)  \\\n",
      "title                                                                        \n",
      "Toy Story (1995)                        0.158922                  0.142838   \n",
      "Jumanji (1995)                          0.000000                  0.000000   \n",
      "Grumpier Old Men (1995)                 1.000000                  0.898795   \n",
      "\n",
      "title                    Father of the Bride Part II (1995)  Heat (1995)  \\\n",
      "title                                                                      \n",
      "Toy Story (1995)                                   0.263837          0.0   \n",
      "Jumanji (1995)                                     0.000000          0.0   \n",
      "Grumpier Old Men (1995)                            0.602350          0.0   \n",
      "\n",
      "title                    Sabrina (1995)  Tom and Huck (1995)  \\\n",
      "title                                                          \n",
      "Toy Story (1995)               0.158922             0.644056   \n",
      "Jumanji (1995)                 0.000000             0.805299   \n",
      "Grumpier Old Men (1995)        1.000000             0.000000   \n",
      "\n",
      "title                    Sudden Death (1995)  GoldenEye (1995)  ...  \\\n",
      "title                                                           ...   \n",
      "Toy Story (1995)                         0.0          0.260439  ...   \n",
      "Jumanji (1995)                           0.0          0.325642  ...   \n",
      "Grumpier Old Men (1995)                  0.0          0.000000  ...   \n",
      "\n",
      "title                    Circle (2015)  The Measure of a Man (2015)  \\\n",
      "title                                                                 \n",
      "Toy Story (1995)                   0.0                          0.0   \n",
      "Jumanji (1995)                     0.0                          0.0   \n",
      "Grumpier Old Men (1995)            0.0                          0.0   \n",
      "\n",
      "title                    Bone Tomahawk (2015)  Elämältä kaiken sain (    )  \\\n",
      "title                                                                        \n",
      "Toy Story (1995)                          0.0                     0.205047   \n",
      "Jumanji (1995)                            0.0                     0.000000   \n",
      "Grumpier Old Men (1995)                   0.0                     0.468130   \n",
      "\n",
      "title                    Creed (2015)  Cosmic Scrat-tastrophe (2015)  \\\n",
      "title                                                                  \n",
      "Toy Story (1995)                  0.0                       0.782223   \n",
      "Jumanji (1995)                    0.0                       0.402028   \n",
      "Grumpier Old Men (1995)           0.0                       0.203167   \n",
      "\n",
      "title                    Le Grand Restaurant (1966)  \\\n",
      "title                                                 \n",
      "Toy Story (1995)                           0.263837   \n",
      "Jumanji (1995)                             0.000000   \n",
      "Grumpier Old Men (1995)                    0.602350   \n",
      "\n",
      "title                    A Very Murray Christmas (2015)  The Big Short (2015)  \\\n",
      "title                                                                           \n",
      "Toy Story (1995)                               0.263837                   0.0   \n",
      "Jumanji (1995)                                 0.000000                   0.0   \n",
      "Grumpier Old Men (1995)                        0.602350                   0.0   \n",
      "\n",
      "title                    Marco Polo: One Hundred Eyes (2015)  \n",
      "title                                                         \n",
      "Toy Story (1995)                                         0.0  \n",
      "Jumanji (1995)                                           0.0  \n",
      "Grumpier Old Men (1995)                                  0.0  \n",
      "\n",
      "[3 rows x 10329 columns]\n"
     ]
    }
   ],
   "source": [
    "import pandas as pd \n",
    "from sklearn.metrics.pairwise import cosine_similarity\n",
    "from sklearn.feature_extraction.text import TfidfVectorizer\n",
    "\n",
    "movies = pd.read_csv(\"movies.csv\")\n",
    "print(movies.head(2),\"\\n\")\n",
    "\n",
    "tfidf = TfidfVectorizer(stop_words=\"english\")\n",
    "tfidf_matrix = tfidf.fit_transform(movies[\"genres\"])\n",
    "\n",
    "cosine_sim = cosine_similarity(tfidf_matrix)\n",
    "print(cosine_sim,\"\\n\")\n",
    "\n",
    "similary_df = pd.DataFrame(cosine_sim, index=movies[\"title\"], columns=movies[\"title\"])\n",
    "print(similary_df.head(3))"
   ]
  },
  {
   "cell_type": "code",
   "execution_count": 24,
   "id": "dfc760ad",
   "metadata": {},
   "outputs": [
    {
     "data": {
      "text/plain": [
       "title\n",
       "Return to Oz (1985)                                                                               1.0\n",
       "Chronicles of Narnia: The Voyage of the Dawn Treader, The (2010)                                  1.0\n",
       "Harry Potter and the Sorcerer's Stone (a.k.a. Harry Potter and the Philosopher's Stone) (2001)    1.0\n",
       "Santa Claus: The Movie (1985)                                                                     1.0\n",
       "Name: Jumanji (1995), dtype: float64"
      ]
     },
     "execution_count": 24,
     "metadata": {},
     "output_type": "execute_result"
    }
   ],
   "source": [
    "# lets recommend\n",
    "\n",
    "def sim_df(title,dataframe, top_n=4):\n",
    "    return dataframe[title].sort_values(ascending=False)[1:top_n+1]\n",
    "\n",
    "sim_df(\"Jumanji (1995)\", similary_df)"
   ]
  }
 ],
 "metadata": {
  "kernelspec": {
   "display_name": "Python 3",
   "language": "python",
   "name": "python3"
  },
  "language_info": {
   "codemirror_mode": {
    "name": "ipython",
    "version": 3
   },
   "file_extension": ".py",
   "mimetype": "text/x-python",
   "name": "python",
   "nbconvert_exporter": "python",
   "pygments_lexer": "ipython3",
   "version": "3.12.5"
  }
 },
 "nbformat": 4,
 "nbformat_minor": 5
}
